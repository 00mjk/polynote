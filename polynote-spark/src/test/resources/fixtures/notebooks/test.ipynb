{
  "metadata" : {
    
  },
  "nbformat" : 4,
  "nbformat_minor" : 0,
  "cells" : [
    {
      "cell_type" : "code",
      "execution_count" : 0,
      "metadata" : {
        "cell.metadata.exec_info" : {
          "startTs" : 1557274757220,
          "endTs" : 1557274757266
        },
        "language" : "scala"
      },
      "language" : "scala",
      "source" : [
        "1"
      ],
      "outputs" : [
      ]
    },
    {
      "cell_type" : "code",
      "execution_count" : 1,
      "metadata" : {
        "cell.metadata.exec_info" : {
          "startTs" : 1557274757271,
          "endTs" : 1557274757314
        },
        "language" : "scala"
      },
      "language" : "scala",
      "source" : [
        "2"
      ],
      "outputs" : [
      ]
    },
    {
      "cell_type" : "code",
      "execution_count" : 2,
      "metadata" : {
        "cell.metadata.exec_info" : {
          "startTs" : 1557274757317,
          "endTs" : 1557274757367
        },
        "language" : "scala"
      },
      "language" : "scala",
      "source" : [
        "println(\"three\")"
      ],
      "outputs" : [
      ]
    },
    {
      "cell_type" : "code",
      "execution_count" : 3,
      "metadata" : {
        "cell.metadata.exec_info" : {
          "startTs" : 1557274757369,
          "endTs" : 1557274757419
        },
        "language" : "scala"
      },
      "language" : "scala",
      "source" : [
        "kernel.display.html(\"<strong>HTML!</strong>\")"
      ],
      "outputs" : [
      ]
    },
    {
      "cell_type" : "code",
      "execution_count" : 4,
      "metadata" : {
        "cell.metadata.exec_info" : {
          "startTs" : 1557274757422,
          "endTs" : 1557274757470
        },
        "language" : "scala"
      },
      "language" : "scala",
      "source" : [
        "val x = 2"
      ],
      "outputs" : [
      ]
    },
    {
      "cell_type" : "code",
      "execution_count" : 5,
      "metadata" : {
        "cell.metadata.exec_info" : {
          "startTs" : 1557274757473,
          "endTs" : 1557274757475
        },
        "language" : "python"
      },
      "language" : "python",
      "source" : [
        "y = \"hi!\""
      ],
      "outputs" : [
      ]
    },
    {
      "cell_type" : "code",
      "execution_count" : 6,
      "metadata" : {
        "cell.metadata.exec_info" : {
          "startTs" : 1557276427120,
          "endTs" : 1557276427551
        },
        "language" : "python"
      },
      "language" : "python",
      "source" : [
        "y = \"bye\"\n",
        "x = 3\n",
        "z = [1, 2, 3, 4]"
      ],
      "outputs" : [
      ]
    },
    {
      "cell_type" : "code",
      "execution_count" : 7,
      "metadata" : {
        "cell.metadata.exec_info" : {
          "startTs" : 1557276233388,
          "endTs" : 1557276233963
        },
        "language" : "scala"
      },
      "language" : "scala",
      "source" : [
        "spark.sparkContext.parallelize(List(1, 2, 3, 4)).map(_ + 1).collect.toList"
      ],
      "outputs" : [
      ]
    },
    {
      "cell_type" : "code",
      "execution_count" : 8,
      "metadata" : {
        "language" : "scala"
      },
      "language" : "scala",
      "source" : [
      ],
      "outputs" : [
      ]
    }
  ]
}